{
 "cells": [
  {
   "cell_type": "code",
   "execution_count": 125,
   "metadata": {
    "collapsed": false
   },
   "outputs": [],
   "source": [
    "import pandas as pd\n",
    "man = pd.read_csv('man.csv', encoding = 'cp949')\n",
    "men_y = man['target_solo']\n",
    "men_X = man[man.columns[:39]]\n",
    "woman = pd.read_csv('woman.csv', encoding = 'cp949')\n",
    "women_y = woman['target_solo']\n",
    "women_X = woman[woman.columns[:39]]"
   ]
  },
  {
   "cell_type": "markdown",
   "metadata": {},
   "source": [
    "# 변수 선택"
   ]
  },
  {
   "cell_type": "markdown",
   "metadata": {},
   "source": [
    "### 남성"
   ]
  },
  {
   "cell_type": "code",
   "execution_count": 224,
   "metadata": {
    "collapsed": false
   },
   "outputs": [
    {
     "data": {
      "text/html": [
       "<div>\n",
       "<table border=\"1\" class=\"dataframe\">\n",
       "  <thead>\n",
       "    <tr style=\"text-align: right;\">\n",
       "      <th></th>\n",
       "      <th>col</th>\n",
       "      <th>vi</th>\n",
       "    </tr>\n",
       "  </thead>\n",
       "  <tbody>\n",
       "    <tr>\n",
       "      <th>20</th>\n",
       "      <td>accessory_ring</td>\n",
       "      <td>0.154089</td>\n",
       "    </tr>\n",
       "    <tr>\n",
       "      <th>14</th>\n",
       "      <td>participation</td>\n",
       "      <td>0.090385</td>\n",
       "    </tr>\n",
       "    <tr>\n",
       "      <th>13</th>\n",
       "      <td>charging</td>\n",
       "      <td>0.063655</td>\n",
       "    </tr>\n",
       "    <tr>\n",
       "      <th>0</th>\n",
       "      <td>grade</td>\n",
       "      <td>0.060143</td>\n",
       "    </tr>\n",
       "    <tr>\n",
       "      <th>17</th>\n",
       "      <td>after_finish_lecture_강의실나감</td>\n",
       "      <td>0.048129</td>\n",
       "    </tr>\n",
       "    <tr>\n",
       "      <th>15</th>\n",
       "      <td>drowsiness</td>\n",
       "      <td>0.047692</td>\n",
       "    </tr>\n",
       "    <tr>\n",
       "      <th>30</th>\n",
       "      <td>standard_style_street</td>\n",
       "      <td>0.046821</td>\n",
       "    </tr>\n",
       "    <tr>\n",
       "      <th>3</th>\n",
       "      <td>exit_no</td>\n",
       "      <td>0.044399</td>\n",
       "    </tr>\n",
       "    <tr>\n",
       "      <th>35</th>\n",
       "      <td>campus_style_스트릿</td>\n",
       "      <td>0.041661</td>\n",
       "    </tr>\n",
       "    <tr>\n",
       "      <th>38</th>\n",
       "      <td>phonecase</td>\n",
       "      <td>0.035814</td>\n",
       "    </tr>\n",
       "  </tbody>\n",
       "</table>\n",
       "</div>"
      ],
      "text/plain": [
       "                           col        vi\n",
       "20              accessory_ring  0.154089\n",
       "14               participation  0.090385\n",
       "13                    charging  0.063655\n",
       "0                        grade  0.060143\n",
       "17  after_finish_lecture_강의실나감  0.048129\n",
       "15                  drowsiness  0.047692\n",
       "30       standard_style_street  0.046821\n",
       "3                      exit_no  0.044399\n",
       "35            campus_style_스트릿  0.041661\n",
       "38                   phonecase  0.035814"
      ]
     },
     "execution_count": 224,
     "metadata": {},
     "output_type": "execute_result"
    }
   ],
   "source": [
    "from sklearn.tree import DecisionTreeClassifier\n",
    "from sklearn.model_selection import cross_val_score\n",
    "\n",
    "clf_tr = DecisionTreeClassifier(random_state = 0)\n",
    "clf_tr.fit(men_X, men_y)\n",
    "man_vi = pd.DataFrame({'col': men_X.columns, 'vi': clf_tr.feature_importances_})\n",
    "man_vi.sort_values('vi', ascending = False)[:10]"
   ]
  },
  {
   "cell_type": "code",
   "execution_count": 228,
   "metadata": {
    "collapsed": false
   },
   "outputs": [
    {
     "data": {
      "text/html": [
       "<div>\n",
       "<table border=\"1\" class=\"dataframe\">\n",
       "  <thead>\n",
       "    <tr style=\"text-align: right;\">\n",
       "      <th></th>\n",
       "      <th>col</th>\n",
       "      <th>vi</th>\n",
       "    </tr>\n",
       "  </thead>\n",
       "  <tbody>\n",
       "    <tr>\n",
       "      <th>3</th>\n",
       "      <td>exit_no</td>\n",
       "      <td>0.115041</td>\n",
       "    </tr>\n",
       "    <tr>\n",
       "      <th>15</th>\n",
       "      <td>drowsiness</td>\n",
       "      <td>0.100675</td>\n",
       "    </tr>\n",
       "    <tr>\n",
       "      <th>24</th>\n",
       "      <td>how_wear_accessory</td>\n",
       "      <td>0.091379</td>\n",
       "    </tr>\n",
       "    <tr>\n",
       "      <th>4</th>\n",
       "      <td>position_전방</td>\n",
       "      <td>0.069610</td>\n",
       "    </tr>\n",
       "    <tr>\n",
       "      <th>12</th>\n",
       "      <td>phone_position_화면아래</td>\n",
       "      <td>0.048564</td>\n",
       "    </tr>\n",
       "    <tr>\n",
       "      <th>37</th>\n",
       "      <td>campus_style_편안한복장</td>\n",
       "      <td>0.044998</td>\n",
       "    </tr>\n",
       "    <tr>\n",
       "      <th>7</th>\n",
       "      <td>beside_friend_no</td>\n",
       "      <td>0.044282</td>\n",
       "    </tr>\n",
       "    <tr>\n",
       "      <th>27</th>\n",
       "      <td>color_yes</td>\n",
       "      <td>0.040772</td>\n",
       "    </tr>\n",
       "    <tr>\n",
       "      <th>13</th>\n",
       "      <td>charging</td>\n",
       "      <td>0.033581</td>\n",
       "    </tr>\n",
       "    <tr>\n",
       "      <th>32</th>\n",
       "      <td>standard_style_training</td>\n",
       "      <td>0.031250</td>\n",
       "    </tr>\n",
       "  </tbody>\n",
       "</table>\n",
       "</div>"
      ],
      "text/plain": [
       "                        col        vi\n",
       "3                   exit_no  0.115041\n",
       "15               drowsiness  0.100675\n",
       "24       how_wear_accessory  0.091379\n",
       "4               position_전방  0.069610\n",
       "12      phone_position_화면아래  0.048564\n",
       "37       campus_style_편안한복장  0.044998\n",
       "7          beside_friend_no  0.044282\n",
       "27                color_yes  0.040772\n",
       "13                 charging  0.033581\n",
       "32  standard_style_training  0.031250"
      ]
     },
     "execution_count": 228,
     "metadata": {},
     "output_type": "execute_result"
    }
   ],
   "source": [
    "clf_tr = DecisionTreeClassifier(random_state = 0)\n",
    "clf_tr.fit(women_X, women_y)\n",
    "woman_vi = pd.DataFrame({'col': women_X.columns, 'vi': clf_tr.feature_importances_})\n",
    "woman_vi.sort_values('vi', ascending = False)[:10]"
   ]
  },
  {
   "cell_type": "code",
   "execution_count": 248,
   "metadata": {
    "collapsed": false
   },
   "outputs": [
    {
     "data": {
      "text/html": [
       "<div>\n",
       "<table border=\"1\" class=\"dataframe\">\n",
       "  <thead>\n",
       "    <tr style=\"text-align: right;\">\n",
       "      <th></th>\n",
       "      <th>col</th>\n",
       "      <th>vi</th>\n",
       "    </tr>\n",
       "  </thead>\n",
       "  <tbody>\n",
       "    <tr>\n",
       "      <th>2</th>\n",
       "      <td>grade</td>\n",
       "      <td>0.256461</td>\n",
       "    </tr>\n",
       "    <tr>\n",
       "      <th>0</th>\n",
       "      <td>accessory_ring</td>\n",
       "      <td>0.183729</td>\n",
       "    </tr>\n",
       "    <tr>\n",
       "      <th>1</th>\n",
       "      <td>participation</td>\n",
       "      <td>0.177563</td>\n",
       "    </tr>\n",
       "    <tr>\n",
       "      <th>3</th>\n",
       "      <td>drowsiness</td>\n",
       "      <td>0.158457</td>\n",
       "    </tr>\n",
       "    <tr>\n",
       "      <th>5</th>\n",
       "      <td>phonecase</td>\n",
       "      <td>0.087361</td>\n",
       "    </tr>\n",
       "    <tr>\n",
       "      <th>4</th>\n",
       "      <td>glasses_안경착용</td>\n",
       "      <td>0.072573</td>\n",
       "    </tr>\n",
       "    <tr>\n",
       "      <th>6</th>\n",
       "      <td>after_finish_lecture_강의실나감</td>\n",
       "      <td>0.063856</td>\n",
       "    </tr>\n",
       "  </tbody>\n",
       "</table>\n",
       "</div>"
      ],
      "text/plain": [
       "                          col        vi\n",
       "2                       grade  0.256461\n",
       "0              accessory_ring  0.183729\n",
       "1               participation  0.177563\n",
       "3                  drowsiness  0.158457\n",
       "5                   phonecase  0.087361\n",
       "4                glasses_안경착용  0.072573\n",
       "6  after_finish_lecture_강의실나감  0.063856"
      ]
     },
     "execution_count": 248,
     "metadata": {},
     "output_type": "execute_result"
    }
   ],
   "source": [
    "man_vlist = ['accessory_ring', 'participation', 'grade', 'drowsiness',\n",
    "             'glasses_안경착용', 'phonecase', 'after_finish_lecture_강의실나감']\n",
    "temp_men = men_X[man_vlist]\n",
    "\n",
    "clf_tr = DecisionTreeClassifier(random_state = 0)\n",
    "clf_tr.fit(temp_men, men_y)\n",
    "man_vi = pd.DataFrame({'col': temp_men.columns, 'vi': clf_tr.feature_importances_})\n",
    "man_vi.sort_values('vi', ascending = False)"
   ]
  },
  {
   "cell_type": "code",
   "execution_count": 249,
   "metadata": {
    "collapsed": false
   },
   "outputs": [
    {
     "name": "stdout",
     "output_type": "stream",
     "text": [
      "\n",
      "Using scaled data \n",
      "\n",
      "[Logistic Regression] accuracy score: 0.6790\n",
      "[kNN] accuracy score: 0.7672\n",
      "[Decision Tree] accuracy score: 0.6652\n",
      "[SVMLinear] accuracy score: 0.6883\n",
      "[SVMRbf] accuracy score: 0.7427\n",
      "[SGD] accuracy score: 0.6415\n",
      "[Naive Bayes] accuracy score: 0.6828\n",
      "[Random Forest] accuracy score: 0.7066\n",
      "\n",
      "Using row data \n",
      "\n",
      "[Logistic Regression] accuracy score: 0.6888\n",
      "[kNN] accuracy score: 0.6878\n",
      "[Decision Tree] accuracy score: 0.6753\n",
      "[SVMLinear] accuracy score: 0.6833\n",
      "[SVMRbf] accuracy score: 0.7186\n",
      "[SGD] accuracy score: 0.6094\n",
      "[Naive Bayes] accuracy score: 0.7033\n",
      "[Random Forest] accuracy score: 0.6918\n"
     ]
    }
   ],
   "source": [
    "auto_competition(temp_men, men_y, method = 'accuracy')"
   ]
  },
  {
   "cell_type": "code",
   "execution_count": 264,
   "metadata": {
    "collapsed": false
   },
   "outputs": [
    {
     "data": {
      "text/html": [
       "<div>\n",
       "<table border=\"1\" class=\"dataframe\">\n",
       "  <thead>\n",
       "    <tr style=\"text-align: right;\">\n",
       "      <th></th>\n",
       "      <th>col</th>\n",
       "      <th>vi</th>\n",
       "    </tr>\n",
       "  </thead>\n",
       "  <tbody>\n",
       "    <tr>\n",
       "      <th>1</th>\n",
       "      <td>how_wear_accessory</td>\n",
       "      <td>0.352449</td>\n",
       "    </tr>\n",
       "    <tr>\n",
       "      <th>0</th>\n",
       "      <td>exit_no</td>\n",
       "      <td>0.175062</td>\n",
       "    </tr>\n",
       "    <tr>\n",
       "      <th>4</th>\n",
       "      <td>drowsiness</td>\n",
       "      <td>0.148706</td>\n",
       "    </tr>\n",
       "    <tr>\n",
       "      <th>2</th>\n",
       "      <td>position_전방</td>\n",
       "      <td>0.092441</td>\n",
       "    </tr>\n",
       "    <tr>\n",
       "      <th>7</th>\n",
       "      <td>color_yes</td>\n",
       "      <td>0.069544</td>\n",
       "    </tr>\n",
       "    <tr>\n",
       "      <th>3</th>\n",
       "      <td>phone_position_화면아래</td>\n",
       "      <td>0.061211</td>\n",
       "    </tr>\n",
       "    <tr>\n",
       "      <th>6</th>\n",
       "      <td>campus_style_편안한복장</td>\n",
       "      <td>0.059757</td>\n",
       "    </tr>\n",
       "    <tr>\n",
       "      <th>5</th>\n",
       "      <td>accessory_ring</td>\n",
       "      <td>0.040831</td>\n",
       "    </tr>\n",
       "  </tbody>\n",
       "</table>\n",
       "</div>"
      ],
      "text/plain": [
       "                   col        vi\n",
       "1   how_wear_accessory  0.352449\n",
       "0              exit_no  0.175062\n",
       "4           drowsiness  0.148706\n",
       "2          position_전방  0.092441\n",
       "7            color_yes  0.069544\n",
       "3  phone_position_화면아래  0.061211\n",
       "6   campus_style_편안한복장  0.059757\n",
       "5       accessory_ring  0.040831"
      ]
     },
     "execution_count": 264,
     "metadata": {},
     "output_type": "execute_result"
    }
   ],
   "source": [
    "woman_vlist = ['exit_no', 'how_wear_accessory', 'position_전방', 'phone_position_화면아래',\n",
    "               'drowsiness', 'accessory_ring', 'campus_style_편안한복장', 'color_yes']\n",
    "temp_woman = women_X[woman_vlist]\n",
    "\n",
    "clf_tr = DecisionTreeClassifier(random_state = 0)\n",
    "clf_tr.fit(temp_woman, women_y)\n",
    "woman_vi = pd.DataFrame({'col': temp_woman.columns, 'vi': clf_tr.feature_importances_})\n",
    "woman_vi.sort_values('vi', ascending = False)"
   ]
  },
  {
   "cell_type": "code",
   "execution_count": 265,
   "metadata": {
    "collapsed": false
   },
   "outputs": [
    {
     "name": "stdout",
     "output_type": "stream",
     "text": [
      "\n",
      "Using scaled data \n",
      "\n",
      "[Logistic Regression] accuracy score: 0.7289\n",
      "[kNN] accuracy score: 0.6951\n",
      "[Decision Tree] accuracy score: 0.7154\n",
      "[SVMLinear] accuracy score: 0.7264\n",
      "[SVMRbf] accuracy score: 0.7444\n",
      "[SGD] accuracy score: 0.6387\n",
      "[Naive Bayes] accuracy score: 0.6941\n",
      "[Random Forest] accuracy score: 0.7264\n",
      "\n",
      "Using row data \n",
      "\n",
      "[Logistic Regression] accuracy score: 0.7088\n",
      "[kNN] accuracy score: 0.6800\n",
      "[Decision Tree] accuracy score: 0.7106\n",
      "[SVMLinear] accuracy score: 0.7264\n",
      "[SVMRbf] accuracy score: 0.6730\n",
      "[SGD] accuracy score: 0.5994\n",
      "[Naive Bayes] accuracy score: 0.7364\n",
      "[Random Forest] accuracy score: 0.7409\n"
     ]
    }
   ],
   "source": [
    "auto_competition(temp_woman, women_y, method = 'accuracy')"
   ]
  },
  {
   "cell_type": "code",
   "execution_count": 266,
   "metadata": {
    "collapsed": true
   },
   "outputs": [],
   "source": [
    "men_X = men_X[man_vlist]\n",
    "women_X = women_X[woman_vlist]"
   ]
  },
  {
   "cell_type": "code",
   "execution_count": 268,
   "metadata": {
    "collapsed": true
   },
   "outputs": [],
   "source": [
    "man = {'X': men_X, 'y': men_y}\n",
    "woman = {'X': women_X, 'y': women_y}"
   ]
  },
  {
   "cell_type": "code",
   "execution_count": 271,
   "metadata": {
    "collapsed": true
   },
   "outputs": [],
   "source": [
    "import pickle\n",
    "f = open('man_data.pkl', 'wb')\n",
    "pickle.dump(man, f)\n",
    "f.close()\n",
    "\n",
    "f = open('woman_data.pkl', 'wb')\n",
    "pickle.dump(woman, f)\n",
    "f.close()"
   ]
  },
  {
   "cell_type": "markdown",
   "metadata": {},
   "source": [
    "# 알고리즘 비교"
   ]
  },
  {
   "cell_type": "code",
   "execution_count": 272,
   "metadata": {
    "collapsed": true
   },
   "outputs": [],
   "source": [
    "import pickle\n",
    "\n",
    "f = open('man_data.pkl', 'rb')\n",
    "man = pickle.load(f)\n",
    "f.close()\n",
    "men_X = man['X']\n",
    "men_y = man['y']\n",
    "\n",
    "f = open('woman_data.pkl', 'rb')\n",
    "woman = pickle.load(f)\n",
    "f.close()\n",
    "women_X = woman['X']\n",
    "women_y = woman['y']"
   ]
  },
  {
   "cell_type": "code",
   "execution_count": 273,
   "metadata": {
    "collapsed": true
   },
   "outputs": [],
   "source": [
    "from auto_competition import auto_competition"
   ]
  },
  {
   "cell_type": "code",
   "execution_count": 274,
   "metadata": {
    "collapsed": false
   },
   "outputs": [
    {
     "name": "stdout",
     "output_type": "stream",
     "text": [
      "\n",
      "Using scaled data \n",
      "\n",
      "[Logistic Regression] accuracy score: 0.6790\n",
      "[kNN] accuracy score: 0.7672\n",
      "[Decision Tree] accuracy score: 0.6657\n",
      "[SVMLinear] accuracy score: 0.6883\n",
      "[SVMRbf] accuracy score: 0.7427\n",
      "[SGD] accuracy score: 0.6380\n",
      "[Naive Bayes] accuracy score: 0.6828\n",
      "[Random Forest] accuracy score: 0.7364\n",
      "\n",
      "Using row data \n",
      "\n",
      "[Logistic Regression] accuracy score: 0.6888\n",
      "[kNN] accuracy score: 0.6878\n",
      "[Decision Tree] accuracy score: 0.6805\n",
      "[SVMLinear] accuracy score: 0.6833\n",
      "[SVMRbf] accuracy score: 0.7186\n",
      "[SGD] accuracy score: 0.5838\n",
      "[Naive Bayes] accuracy score: 0.7033\n",
      "[Random Forest] accuracy score: 0.7219\n"
     ]
    }
   ],
   "source": [
    "# 남성 데이터\n",
    "auto_competition(men_X, men_y, method = 'accuracy')"
   ]
  },
  {
   "cell_type": "markdown",
   "metadata": {},
   "source": [
    "# 남성 솔로 판별기"
   ]
  },
  {
   "cell_type": "markdown",
   "metadata": {},
   "source": [
    "## GridSearch CV"
   ]
  },
  {
   "cell_type": "code",
   "execution_count": 276,
   "metadata": {
    "collapsed": false
   },
   "outputs": [],
   "source": [
    "from sklearn.svm import SVC\n",
    "from sklearn.pipeline import Pipeline\n",
    "from sklearn.model_selection import cross_val_score\n",
    "from sklearn.preprocessing import StandardScaler\n",
    "import numpy as np"
   ]
  },
  {
   "cell_type": "code",
   "execution_count": 402,
   "metadata": {
    "collapsed": false
   },
   "outputs": [
    {
     "name": "stdout",
     "output_type": "stream",
     "text": [
      "C: 0.001  ->  0.4771  +/- 0.0077\n",
      "C: 0.005  ->  0.4771  +/- 0.0077\n",
      "C: 0.01  ->  0.4771  +/- 0.0077\n",
      "C: 0.05  ->  0.4771  +/- 0.0077\n",
      "C: 0.1  ->  0.5713  +/- 0.0961\n",
      "C: 0.5  ->  0.7316  +/- 0.1154\n",
      "C: 1  ->  0.7414  +/- 0.1037\n",
      "C: 2  ->  0.7477  +/- 0.1217\n",
      "C: 5  ->  0.7637  +/- 0.0971\n",
      "C: 10  ->  0.7487  +/- 0.1039\n",
      "C: 100  ->  0.7116  +/- 0.0724\n"
     ]
    }
   ],
   "source": [
    "param = [0.001, 0.005, 0.01, 0.05, 0.1, 0.5, 1, 2, 5, 10, 100]\n",
    "weight = {'solo': 1, 'couple': 1.5}\n",
    "for p in param:\n",
    "    pipe_svc = Pipeline([('scaler', StandardScaler()),\n",
    "                 ('clf_svc', SVC(kernel = 'rbf', C = p, tol = 0.1, probability = True, class_weight = weight))])\n",
    "    cvs = cross_val_score(pipe_svc, men_X, y = men_y, cv = 10)\n",
    "    mean = np.mean(cvs)\n",
    "    std = np.std(cvs)\n",
    "    print('C: %s  ->  %0.4f  +/- %0.4f' % (p, mean, std))"
   ]
  },
  {
   "cell_type": "code",
   "execution_count": 403,
   "metadata": {
    "collapsed": false
   },
   "outputs": [
    {
     "data": {
      "text/plain": [
       "array([[8, 2],\n",
       "       [4, 6]])"
      ]
     },
     "execution_count": 403,
     "metadata": {},
     "output_type": "execute_result"
    }
   ],
   "source": [
    "from sklearn.metrics import confusion_matrix\n",
    "idx = np.random.choice(range(len(men_X)), 20)\n",
    "pipe_svc = Pipeline([('scaler', StandardScaler()),\n",
    "                 ('clf_svc', SVC(kernel = 'rbf', C = 5, tol = 0.1, probability = True, class_weight = weight))])\n",
    "pipe_svc.fit(men_X.iloc[-idx], men_y.iloc[-idx])\n",
    "pred = pipe_svc.predict(men_X.iloc[idx])\n",
    "confusion_matrix(pred, men_y.iloc[idx])"
   ]
  },
  {
   "cell_type": "code",
   "execution_count": 279,
   "metadata": {
    "collapsed": false
   },
   "outputs": [
    {
     "name": "stdout",
     "output_type": "stream",
     "text": [
      "1 0.716077694236\n",
      "2 0.664448621554\n",
      "3 0.742155388471\n",
      "4 0.674498746867\n",
      "5 0.767230576441\n",
      "6 0.757205513784\n",
      "7 0.712869674185\n",
      "8 0.711365914787\n",
      "9 0.693082706767\n",
      "10 0.691077694236\n",
      "11 0.702105263158\n",
      "12 0.691578947368\n",
      "13 0.702105263158\n",
      "14 0.706102756892\n",
      "15 0.670501253133\n",
      "16 0.700839598997\n",
      "17 0.680789473684\n",
      "18 0.690814536341\n",
      "19 0.677268170426\n",
      "20 0.696077694236\n"
     ]
    }
   ],
   "source": [
    "from sklearn.neighbors import KNeighborsClassifier\n",
    "from sklearn.model_selection import cross_val_score\n",
    "import numpy as np\n",
    "\n",
    "for k in range(1, 21):\n",
    "    pipe_knn = Pipeline([('scaler', StandardScaler()),\n",
    "                     ('clf_knn', KNeighborsClassifier(n_neighbors = k))])\n",
    "    print(k, np.mean(cross_val_score(pipe_knn, men_X, y = men_y, cv = 10)))"
   ]
  },
  {
   "cell_type": "code",
   "execution_count": 311,
   "metadata": {
    "collapsed": false
   },
   "outputs": [
    {
     "data": {
      "text/plain": [
       "array([[4, 1],\n",
       "       [6, 9]])"
      ]
     },
     "execution_count": 311,
     "metadata": {},
     "output_type": "execute_result"
    }
   ],
   "source": [
    "idx = np.random.choice(range(len(men_X)), 20)\n",
    "pipe_knn = Pipeline([('scaler', StandardScaler()),\n",
    "                 ('clf_knn', KNeighborsClassifier(n_neighbors = 5))])\n",
    "pipe_knn.fit(men_X.iloc[-idx], men_y.iloc[-idx])\n",
    "pred = pipe_knn.predict(men_X.iloc[idx])\n",
    "confusion_matrix(pred, men_y.iloc[idx])"
   ]
  },
  {
   "cell_type": "code",
   "execution_count": 348,
   "metadata": {
    "collapsed": false
   },
   "outputs": [
    {
     "name": "stdout",
     "output_type": "stream",
     "text": [
      "C: 0.001  ->  0.6981  +/- 0.0000\n",
      "C: 0.005  ->  0.6981  +/- 0.0000\n",
      "C: 0.01  ->  0.6981  +/- 0.0000\n",
      "C: 0.05  ->  0.6928  +/- 0.0000\n",
      "C: 0.1  ->  0.6928  +/- 0.0000\n",
      "C: 0.5  ->  0.6923  +/- 0.0000\n",
      "C: 1  ->  0.7071  +/- 0.0000\n",
      "C: 2  ->  0.7013  +/- 0.0000\n",
      "C: 5  ->  0.6870  +/- 0.0000\n",
      "C: 10  ->  0.6923  +/- 0.0000\n",
      "C: 100  ->  0.7434  +/- 0.0000\n"
     ]
    }
   ],
   "source": [
    "from sklearn.ensemble import AdaBoostClassifier\n",
    "\n",
    "param = [0.001, 0.005, 0.01, 0.05, 0.1, 0.5, 1, 2, 5, 10, 100]\n",
    "for p in param:\n",
    "    base_clf = SVC(kernel = 'rbf', C = p, tol = 0.1, probability = True)\n",
    "    pipe_ada = Pipeline([('scaler', StandardScaler()),\n",
    "                       ('clf', AdaBoostClassifier(base_estimator = base_clf, learning_rate = 0.001, random_state = 0, n_estimators = 500))])\n",
    "    cvs = np.mean(cross_val_score(pipe_ada, men_X, y = men_y, cv = 10))\n",
    "    mean = np.mean(cvs)\n",
    "    std = np.std(cvs)\n",
    "    print('C: %s  ->  %0.4f  +/- %0.4f' % (p, mean, std))"
   ]
  },
  {
   "cell_type": "code",
   "execution_count": 328,
   "metadata": {
    "collapsed": false
   },
   "outputs": [
    {
     "name": "stdout",
     "output_type": "stream",
     "text": [
      "max_depth: 1  ->  0.6713  +/- 0.0000\n",
      "max_depth: 3  ->  0.7369  +/- 0.0000\n",
      "max_depth: 5  ->  0.7314  +/- 0.0000\n",
      "max_depth: 10  ->  0.7319  +/- 0.0000\n",
      "max_depth: 50  ->  0.6918  +/- 0.0000\n",
      "max_depth: 100  ->  0.6918  +/- 0.0000\n",
      "max_depth: 200  ->  0.6918  +/- 0.0000\n",
      "max_depth: 500  ->  0.6918  +/- 0.0000\n",
      "max_depth: None  ->  0.6918  +/- 0.0000\n"
     ]
    }
   ],
   "source": [
    "from sklearn.ensemble import AdaBoostClassifier\n",
    "from sklearn.tree import DecisionTreeClassifier\n",
    "\n",
    "param_max_depth = [1, 3, 5, 10, 50, 100, 200, 500, None]\n",
    "for d in param_max_depth:\n",
    "    base_clf = DecisionTreeClassifier(max_depth = d)\n",
    "    pipe_ada = Pipeline([('scaler', StandardScaler()),\n",
    "                       ('clf', AdaBoostClassifier(base_estimator = base_clf, learning_rate = 0.001, random_state = 0, n_estimators = 500))])\n",
    "    cvs = np.mean(cross_val_score(pipe_ada, men_X, y = men_y, cv = 10))\n",
    "    mean = np.mean(cvs)\n",
    "    std = np.std(cvs)\n",
    "    print('max_depth: %s  ->  %0.4f  +/- %0.4f' % (d, mean, std))"
   ]
  },
  {
   "cell_type": "code",
   "execution_count": 347,
   "metadata": {
    "collapsed": false
   },
   "outputs": [
    {
     "data": {
      "text/plain": [
       "array([[6, 7],\n",
       "       [1, 6]])"
      ]
     },
     "execution_count": 347,
     "metadata": {},
     "output_type": "execute_result"
    }
   ],
   "source": [
    "idx = np.random.choice(range(len(men_X)), 20)\n",
    "base_clf = DecisionTreeClassifier(max_depth = 3)\n",
    "pipe_ada = Pipeline([('scaler', StandardScaler()),\n",
    "                   ('clf', AdaBoostClassifier(base_estimator = base_clf, learning_rate = 0.001, random_state = 0, n_estimators = 500))])\n",
    "\n",
    "pipe_ada.fit(men_X.iloc[-idx], men_y.iloc[-idx])\n",
    "pred = pipe_ada.predict(men_X.iloc[idx])\n",
    "confusion_matrix(pred, men_y.iloc[idx])"
   ]
  },
  {
   "cell_type": "code",
   "execution_count": 360,
   "metadata": {
    "collapsed": false
   },
   "outputs": [
    {
     "data": {
      "text/plain": [
       "array([[ 6,  2],\n",
       "       [ 1, 11]])"
      ]
     },
     "execution_count": 360,
     "metadata": {},
     "output_type": "execute_result"
    }
   ],
   "source": [
    "idx = np.random.choice(range(len(men_X)), 20)\n",
    "base_clf = SVC(kernel = 'rbf', C = 100, tol = 0.1, probability = True)\n",
    "pipe_ada = Pipeline([('scaler', StandardScaler()),\n",
    "                   ('clf', AdaBoostClassifier(base_estimator = base_clf, learning_rate = 0.001, random_state = 0, n_estimators = 500))])\n",
    "\n",
    "pipe_ada.fit(men_X.iloc[-idx], men_y.iloc[-idx])\n",
    "pred = pipe_ada.predict(men_X.iloc[idx])\n",
    "confusion_matrix(pred, men_y.iloc[idx])"
   ]
  },
  {
   "cell_type": "code",
   "execution_count": 284,
   "metadata": {
    "collapsed": false
   },
   "outputs": [
    {
     "data": {
      "text/plain": [
       "Index(['accessory_ring', 'participation', 'grade', 'drowsiness',\n",
       "       'glasses_안경착용', 'phonecase', 'after_finish_lecture_강의실나감'],\n",
       "      dtype='object')"
      ]
     },
     "execution_count": 284,
     "metadata": {},
     "output_type": "execute_result"
    }
   ],
   "source": [
    "men_X.columns"
   ]
  },
  {
   "cell_type": "code",
   "execution_count": 282,
   "metadata": {
    "collapsed": true
   },
   "outputs": [],
   "source": [
    "import pandas as pd"
   ]
  },
  {
   "cell_type": "code",
   "execution_count": 409,
   "metadata": {
    "collapsed": false
   },
   "outputs": [
    {
     "name": "stdout",
     "output_type": "stream",
     "text": [
      "['couple']\n",
      "[[ 0.2  0.8]]\n",
      "[[ 0.26916952  0.73083048]]\n"
     ]
    }
   ],
   "source": [
    "data = {'accessory_ring': 0, 'participation': 5, 'grade': 4, 'drowsiness': 2, 'glasses_안경착용': 0,\n",
    "        'phonecase': 1, 'after_finish_lecture_강의실나감': 1}\n",
    "data = pd.DataFrame(data, index = ['target'])\n",
    "pipe_svc = Pipeline([('scaler', StandardScaler()),\n",
    "                 ('clf_svc', SVC(kernel = 'rbf', C = 10, tol = 0.1, probability = True))])\n",
    "pipe_knn = Pipeline([('scaler', StandardScaler()),\n",
    "                 ('clf_knn', KNeighborsClassifier(n_neighbors = 5))])\n",
    "base_clf = DecisionTreeClassifier(max_depth = 3)\n",
    "pipe_ada = Pipeline([('scaler', StandardScaler()),\n",
    "                   ('clf', AdaBoostClassifier(base_estimator = base_clf, learning_rate = 0.001, random_state = 0, n_estimators = 500))])\n",
    "pipe_svc.fit(men_X, men_y)\n",
    "pipe_knn.fit(men_X, men_y)\n",
    "pipe_ada.fit(men_X, men_y)\n",
    "print(pipe_svc.predict(data))\n",
    "print(pipe_knn.predict_proba(data))\n",
    "print(pipe_ada.predict_proba(data))"
   ]
  },
  {
   "cell_type": "code",
   "execution_count": 410,
   "metadata": {
    "collapsed": false
   },
   "outputs": [
    {
     "data": {
      "text/plain": [
       "Pipeline(steps=[('scaler', StandardScaler(copy=True, with_mean=True, with_std=True)), ('clf_svc', SVC(C=10, cache_size=200, class_weight=None, coef0=0.0,\n",
       "  decision_function_shape=None, degree=3, gamma='auto', kernel='rbf',\n",
       "  max_iter=-1, probability=True, random_state=None, shrinking=True,\n",
       "  tol=0.1, verbose=False))])"
      ]
     },
     "execution_count": 410,
     "metadata": {},
     "output_type": "execute_result"
    }
   ],
   "source": [
    "pipe_svc = Pipeline([('scaler', StandardScaler()),\n",
    "                 ('clf_svc', SVC(kernel = 'rbf', C = 10, tol = 0.1, probability = True))])\n",
    "pipe_svc.fit(men_X, men_y)"
   ]
  },
  {
   "cell_type": "markdown",
   "metadata": {},
   "source": [
    "## Save"
   ]
  },
  {
   "cell_type": "code",
   "execution_count": 413,
   "metadata": {
    "collapsed": false
   },
   "outputs": [],
   "source": [
    "import pickle\n",
    "\n",
    "man_data = {'X': men_X, 'y': men_y}\n",
    "\n",
    "f = open('man_data.pkl', 'wb')\n",
    "pickle.dump(man_data, f)\n",
    "f.close()"
   ]
  },
  {
   "cell_type": "code",
   "execution_count": 414,
   "metadata": {
    "collapsed": true
   },
   "outputs": [],
   "source": [
    "f = open('men_clf.pkl', 'wb')\n",
    "pickle.dump(pipe_svc, f)\n",
    "f.close()"
   ]
  },
  {
   "cell_type": "markdown",
   "metadata": {},
   "source": [
    "# 여성 솔로 판별기"
   ]
  },
  {
   "cell_type": "code",
   "execution_count": 415,
   "metadata": {
    "collapsed": false
   },
   "outputs": [
    {
     "name": "stdout",
     "output_type": "stream",
     "text": [
      "\n",
      "Using scaled data \n",
      "\n",
      "[Logistic Regression] accuracy score: 0.7289\n",
      "[kNN] accuracy score: 0.6951\n",
      "[Decision Tree] accuracy score: 0.7206\n",
      "[SVMLinear] accuracy score: 0.7264\n",
      "[SVMRbf] accuracy score: 0.7444\n",
      "[SGD] accuracy score: 0.5811\n",
      "[Naive Bayes] accuracy score: 0.6941\n",
      "[Random Forest] accuracy score: 0.7159\n",
      "\n",
      "Using row data \n",
      "\n",
      "[Logistic Regression] accuracy score: 0.7088\n",
      "[kNN] accuracy score: 0.6800\n",
      "[Decision Tree] accuracy score: 0.7154\n",
      "[SVMLinear] accuracy score: 0.7264\n",
      "[SVMRbf] accuracy score: 0.6730\n",
      "[SGD] accuracy score: 0.5943\n",
      "[Naive Bayes] accuracy score: 0.7364\n",
      "[Random Forest] accuracy score: 0.7206\n"
     ]
    }
   ],
   "source": [
    "# 여성 데이터\n",
    "auto_competition(women_X, women_y, method = 'accuracy')"
   ]
  },
  {
   "cell_type": "code",
   "execution_count": 416,
   "metadata": {
    "collapsed": true
   },
   "outputs": [],
   "source": [
    "from sklearn.tree import DecisionTreeClassifier\n",
    "from sklearn.ensemble import RandomForestClassifier\n",
    "from sklearn.model_selection import cross_val_score\n",
    "import numpy as np"
   ]
  },
  {
   "cell_type": "code",
   "execution_count": 417,
   "metadata": {
    "collapsed": false
   },
   "outputs": [
    {
     "data": {
      "text/plain": [
       "0.7148496240601504"
      ]
     },
     "execution_count": 417,
     "metadata": {},
     "output_type": "execute_result"
    }
   ],
   "source": [
    "clf_tr = DecisionTreeClassifier()\n",
    "clf_tr.fit(women_X, women_y)\n",
    "np.mean(cross_val_score(clf_tr, women_X, y = women_y, cv = 10))"
   ]
  },
  {
   "cell_type": "markdown",
   "metadata": {},
   "source": [
    "## GridSearch CV"
   ]
  },
  {
   "cell_type": "code",
   "execution_count": 424,
   "metadata": {
    "collapsed": false
   },
   "outputs": [
    {
     "name": "stdout",
     "output_type": "stream",
     "text": [
      "max_depth: 1  ->  0.5184  +/- 0.0579\n",
      "max_depth: 3  ->  0.7455  +/- 0.0627\n",
      "max_depth: 5  ->  0.7199  +/- 0.0895\n",
      "max_depth: 10  ->  0.7093  +/- 0.0630\n",
      "max_depth: 50  ->  0.7001  +/- 0.1102\n",
      "max_depth: 100  ->  0.7101  +/- 0.0946\n",
      "max_depth: 200  ->  0.7001  +/- 0.1102\n",
      "max_depth: 500  ->  0.7144  +/- 0.1059\n",
      "max_depth: None  ->  0.7048  +/- 0.1055\n"
     ]
    }
   ],
   "source": [
    "param_max_depth = [1, 3, 5, 10, 50, 100, 200, 500, None]\n",
    "for d in param_max_depth:\n",
    "    pipe_tr = Pipeline([('scaler', StandardScaler()),\n",
    "                         ('clf', DecisionTreeClassifier(criterion = 'entropy', max_depth = d))])\n",
    "    cvs = cross_val_score(pipe_tr, women_X, y = women_y, cv = 10)\n",
    "    mean = np.mean(cvs)\n",
    "    std = np.std(cvs)\n",
    "    print('max_depth: %s  ->  %0.4f  +/- %0.4f' % (d, mean, std))"
   ]
  },
  {
   "cell_type": "code",
   "execution_count": 425,
   "metadata": {
    "collapsed": false,
    "scrolled": true
   },
   "outputs": [
    {
     "name": "stdout",
     "output_type": "stream",
     "text": [
      "max_depth: 1 / n_estimators: 1 / sqrt ->  0.4525  +/- 0.0888\n",
      "max_depth: 1 / n_estimators: 1 / log2 ->  0.5578  +/- 0.0806\n",
      "max_depth: 1 / n_estimators: 1 / None ->  0.5217  +/- 0.0615\n",
      "max_depth: 1 / n_estimators: 5 / sqrt ->  0.5875  +/- 0.0830\n",
      "max_depth: 1 / n_estimators: 5 / log2 ->  0.5983  +/- 0.1104\n",
      "max_depth: 1 / n_estimators: 5 / None ->  0.5567  +/- 0.1088\n",
      "max_depth: 1 / n_estimators: 10 / sqrt ->  0.6600  +/- 0.0947\n",
      "max_depth: 1 / n_estimators: 10 / log2 ->  0.6795  +/- 0.0696\n",
      "max_depth: 1 / n_estimators: 10 / None ->  0.6695  +/- 0.1167\n",
      "max_depth: 1 / n_estimators: 50 / sqrt ->  0.6783  +/- 0.0709\n",
      "max_depth: 1 / n_estimators: 50 / log2 ->  0.7106  +/- 0.0629\n",
      "max_depth: 1 / n_estimators: 50 / None ->  0.6953  +/- 0.1066\n",
      "max_depth: 1 / n_estimators: 100 / sqrt ->  0.7199  +/- 0.0517\n",
      "max_depth: 1 / n_estimators: 100 / log2 ->  0.7264  +/- 0.0769\n",
      "max_depth: 1 / n_estimators: 100 / None ->  0.6953  +/- 0.1066\n",
      "max_depth: 3 / n_estimators: 1 / sqrt ->  0.5224  +/- 0.1153\n",
      "max_depth: 3 / n_estimators: 1 / log2 ->  0.5505  +/- 0.1101\n",
      "max_depth: 3 / n_estimators: 1 / None ->  0.6327  +/- 0.0848\n",
      "max_depth: 3 / n_estimators: 5 / sqrt ->  0.6903  +/- 0.0912\n",
      "max_depth: 3 / n_estimators: 5 / log2 ->  0.6530  +/- 0.0693\n",
      "max_depth: 3 / n_estimators: 5 / None ->  0.6630  +/- 0.0949\n",
      "max_depth: 3 / n_estimators: 10 / sqrt ->  0.6845  +/- 0.0777\n",
      "max_depth: 3 / n_estimators: 10 / log2 ->  0.7111  +/- 0.0725\n",
      "max_depth: 3 / n_estimators: 10 / None ->  0.6738  +/- 0.0820\n",
      "max_depth: 3 / n_estimators: 50 / sqrt ->  0.7314  +/- 0.0733\n",
      "max_depth: 3 / n_estimators: 50 / log2 ->  0.7159  +/- 0.0747\n",
      "max_depth: 3 / n_estimators: 50 / None ->  0.7164  +/- 0.0877\n",
      "max_depth: 3 / n_estimators: 100 / sqrt ->  0.7414  +/- 0.0657\n",
      "max_depth: 3 / n_estimators: 100 / log2 ->  0.7259  +/- 0.0681\n",
      "max_depth: 3 / n_estimators: 100 / None ->  0.7264  +/- 0.0838\n",
      "max_depth: 5 / n_estimators: 1 / sqrt ->  0.5658  +/- 0.0992\n",
      "max_depth: 5 / n_estimators: 1 / log2 ->  0.6996  +/- 0.0688\n",
      "max_depth: 5 / n_estimators: 1 / None ->  0.6297  +/- 0.1059\n",
      "max_depth: 5 / n_estimators: 5 / sqrt ->  0.6642  +/- 0.0722\n",
      "max_depth: 5 / n_estimators: 5 / log2 ->  0.7143  +/- 0.0958\n",
      "max_depth: 5 / n_estimators: 5 / None ->  0.6993  +/- 0.1421\n",
      "max_depth: 5 / n_estimators: 10 / sqrt ->  0.7098  +/- 0.0613\n",
      "max_depth: 5 / n_estimators: 10 / log2 ->  0.7507  +/- 0.0821\n",
      "max_depth: 5 / n_estimators: 10 / None ->  0.7093  +/- 0.1069\n",
      "max_depth: 5 / n_estimators: 50 / sqrt ->  0.7194  +/- 0.0671\n",
      "max_depth: 5 / n_estimators: 50 / log2 ->  0.7251  +/- 0.0690\n",
      "max_depth: 5 / n_estimators: 50 / None ->  0.7249  +/- 0.0817\n",
      "max_depth: 5 / n_estimators: 100 / sqrt ->  0.7357  +/- 0.0810\n",
      "max_depth: 5 / n_estimators: 100 / log2 ->  0.7352  +/- 0.0787\n",
      "max_depth: 5 / n_estimators: 100 / None ->  0.7497  +/- 0.0925\n",
      "max_depth: 10 / n_estimators: 1 / sqrt ->  0.6472  +/- 0.1409\n",
      "max_depth: 10 / n_estimators: 1 / log2 ->  0.6693  +/- 0.0916\n",
      "max_depth: 10 / n_estimators: 1 / None ->  0.6710  +/- 0.1345\n",
      "max_depth: 10 / n_estimators: 5 / sqrt ->  0.7469  +/- 0.1143\n",
      "max_depth: 10 / n_estimators: 5 / log2 ->  0.7512  +/- 0.1214\n",
      "max_depth: 10 / n_estimators: 5 / None ->  0.7459  +/- 0.1262\n",
      "max_depth: 10 / n_estimators: 10 / sqrt ->  0.7519  +/- 0.1124\n",
      "max_depth: 10 / n_estimators: 10 / log2 ->  0.7760  +/- 0.0989\n",
      "max_depth: 10 / n_estimators: 10 / None ->  0.7454  +/- 0.1137\n",
      "max_depth: 10 / n_estimators: 50 / sqrt ->  0.7457  +/- 0.0922\n",
      "max_depth: 10 / n_estimators: 50 / log2 ->  0.7502  +/- 0.0845\n",
      "max_depth: 10 / n_estimators: 50 / None ->  0.7599  +/- 0.0820\n",
      "max_depth: 10 / n_estimators: 100 / sqrt ->  0.7504  +/- 0.0866\n",
      "max_depth: 10 / n_estimators: 100 / log2 ->  0.7652  +/- 0.0886\n",
      "max_depth: 10 / n_estimators: 100 / None ->  0.7644  +/- 0.0804\n",
      "max_depth: 50 / n_estimators: 1 / sqrt ->  0.6502  +/- 0.1268\n",
      "max_depth: 50 / n_estimators: 1 / log2 ->  0.6743  +/- 0.1046\n",
      "max_depth: 50 / n_estimators: 1 / None ->  0.6710  +/- 0.1382\n",
      "max_depth: 50 / n_estimators: 5 / sqrt ->  0.7316  +/- 0.1184\n",
      "max_depth: 50 / n_estimators: 5 / log2 ->  0.7354  +/- 0.1061\n",
      "max_depth: 50 / n_estimators: 5 / None ->  0.7404  +/- 0.1176\n",
      "max_depth: 50 / n_estimators: 10 / sqrt ->  0.7612  +/- 0.0937\n",
      "max_depth: 50 / n_estimators: 10 / log2 ->  0.7700  +/- 0.0864\n",
      "max_depth: 50 / n_estimators: 10 / None ->  0.7497  +/- 0.1006\n",
      "max_depth: 50 / n_estimators: 50 / sqrt ->  0.7499  +/- 0.0784\n",
      "max_depth: 50 / n_estimators: 50 / log2 ->  0.7605  +/- 0.0924\n",
      "max_depth: 50 / n_estimators: 50 / None ->  0.7552  +/- 0.0858\n",
      "max_depth: 50 / n_estimators: 100 / sqrt ->  0.7499  +/- 0.0784\n",
      "max_depth: 50 / n_estimators: 100 / log2 ->  0.7647  +/- 0.0834\n",
      "max_depth: 50 / n_estimators: 100 / None ->  0.7644  +/- 0.0838\n",
      "max_depth: 100 / n_estimators: 1 / sqrt ->  0.6502  +/- 0.1268\n",
      "max_depth: 100 / n_estimators: 1 / log2 ->  0.6743  +/- 0.1046\n",
      "max_depth: 100 / n_estimators: 1 / None ->  0.6710  +/- 0.1382\n",
      "max_depth: 100 / n_estimators: 5 / sqrt ->  0.7316  +/- 0.1184\n",
      "max_depth: 100 / n_estimators: 5 / log2 ->  0.7354  +/- 0.1061\n",
      "max_depth: 100 / n_estimators: 5 / None ->  0.7404  +/- 0.1176\n",
      "max_depth: 100 / n_estimators: 10 / sqrt ->  0.7612  +/- 0.0937\n",
      "max_depth: 100 / n_estimators: 10 / log2 ->  0.7700  +/- 0.0864\n",
      "max_depth: 100 / n_estimators: 10 / None ->  0.7497  +/- 0.1006\n",
      "max_depth: 100 / n_estimators: 50 / sqrt ->  0.7499  +/- 0.0784\n",
      "max_depth: 100 / n_estimators: 50 / log2 ->  0.7605  +/- 0.0924\n",
      "max_depth: 100 / n_estimators: 50 / None ->  0.7552  +/- 0.0858\n",
      "max_depth: 100 / n_estimators: 100 / sqrt ->  0.7499  +/- 0.0784\n",
      "max_depth: 100 / n_estimators: 100 / log2 ->  0.7647  +/- 0.0834\n",
      "max_depth: 100 / n_estimators: 100 / None ->  0.7644  +/- 0.0838\n",
      "max_depth: None / n_estimators: 1 / sqrt ->  0.6502  +/- 0.1268\n",
      "max_depth: None / n_estimators: 1 / log2 ->  0.6743  +/- 0.1046\n",
      "max_depth: None / n_estimators: 1 / None ->  0.6710  +/- 0.1382\n",
      "max_depth: None / n_estimators: 5 / sqrt ->  0.7316  +/- 0.1184\n",
      "max_depth: None / n_estimators: 5 / log2 ->  0.7354  +/- 0.1061\n",
      "max_depth: None / n_estimators: 5 / None ->  0.7404  +/- 0.1176\n",
      "max_depth: None / n_estimators: 10 / sqrt ->  0.7612  +/- 0.0937\n",
      "max_depth: None / n_estimators: 10 / log2 ->  0.7700  +/- 0.0864\n",
      "max_depth: None / n_estimators: 10 / None ->  0.7497  +/- 0.1006\n",
      "max_depth: None / n_estimators: 50 / sqrt ->  0.7499  +/- 0.0784\n",
      "max_depth: None / n_estimators: 50 / log2 ->  0.7605  +/- 0.0924\n",
      "max_depth: None / n_estimators: 50 / None ->  0.7552  +/- 0.0858\n",
      "max_depth: None / n_estimators: 100 / sqrt ->  0.7499  +/- 0.0784\n",
      "max_depth: None / n_estimators: 100 / log2 ->  0.7647  +/- 0.0834\n",
      "max_depth: None / n_estimators: 100 / None ->  0.7644  +/- 0.0838\n"
     ]
    }
   ],
   "source": [
    "from sklearn.ensemble import RandomForestClassifier\n",
    "\n",
    "param_max_depth = [1, 3, 5, 10, 50, 100, None]\n",
    "param_n_estimators = [1, 5, 10, 50, 100]\n",
    "for d in param_max_depth:\n",
    "    for e in param_n_estimators:\n",
    "        for mf in ['sqrt', 'log2', None]:\n",
    "            pipe_rf = Pipeline([('scaler', StandardScaler()),\n",
    "                                ('clf', RandomForestClassifier(criterion = 'entropy',\n",
    "                                                                max_depth = d,\n",
    "                                                                n_estimators = e, \n",
    "                                                                max_features = mf,\n",
    "                                                                random_state = 0, n_jobs = -1))])\n",
    "            cvs = cross_val_score(pipe_rf, women_X, y = women_y, cv = 10)\n",
    "            mean = np.mean(cvs)\n",
    "            std = np.std(cvs)\n",
    "            print('max_depth: %s / n_estimators: %s / %s ->  %0.4f  +/- %0.4f' % (d, e, mf, mean, std))"
   ]
  },
  {
   "cell_type": "code",
   "execution_count": 428,
   "metadata": {
    "collapsed": false,
    "scrolled": true
   },
   "outputs": [
    {
     "name": "stdout",
     "output_type": "stream",
     "text": [
      "max_depth: 1 / n_estimators: 1 ->  0.5184  +/- 0.0579\n",
      "max_depth: 1 / n_estimators: 5 ->  0.5841  +/- 0.0866\n",
      "max_depth: 1 / n_estimators: 10 ->  0.6447  +/- 0.1073\n",
      "max_depth: 1 / n_estimators: 50 ->  0.7264  +/- 0.0838\n",
      "max_depth: 1 / n_estimators: 100 ->  0.7264  +/- 0.0838\n",
      "max_depth: 3 / n_estimators: 1 ->  0.7455  +/- 0.0627\n",
      "max_depth: 3 / n_estimators: 5 ->  0.7407  +/- 0.0666\n",
      "max_depth: 3 / n_estimators: 10 ->  0.7359  +/- 0.0699\n",
      "max_depth: 3 / n_estimators: 50 ->  0.7046  +/- 0.0506\n",
      "max_depth: 3 / n_estimators: 100 ->  0.7086  +/- 0.0824\n",
      "max_depth: 5 / n_estimators: 1 ->  0.7151  +/- 0.0858\n",
      "max_depth: 5 / n_estimators: 5 ->  0.7146  +/- 0.0801\n",
      "max_depth: 5 / n_estimators: 10 ->  0.7141  +/- 0.0889\n",
      "max_depth: 5 / n_estimators: 50 ->  0.6948  +/- 0.1096\n",
      "max_depth: 5 / n_estimators: 100 ->  0.7246  +/- 0.0837\n",
      "max_depth: 10 / n_estimators: 1 ->  0.7046  +/- 0.0642\n",
      "max_depth: 10 / n_estimators: 5 ->  0.6951  +/- 0.0767\n",
      "max_depth: 10 / n_estimators: 10 ->  0.6956  +/- 0.0874\n",
      "max_depth: 10 / n_estimators: 50 ->  0.7038  +/- 0.0799\n",
      "max_depth: 10 / n_estimators: 100 ->  0.7038  +/- 0.0745\n",
      "max_depth: 50 / n_estimators: 1 ->  0.6953  +/- 0.1105\n",
      "max_depth: 50 / n_estimators: 5 ->  0.7104  +/- 0.1092\n",
      "max_depth: 50 / n_estimators: 10 ->  0.7009  +/- 0.1105\n",
      "max_depth: 50 / n_estimators: 50 ->  0.7098  +/- 0.1103\n",
      "max_depth: 50 / n_estimators: 100 ->  0.7003  +/- 0.1156\n",
      "max_depth: 100 / n_estimators: 1 ->  0.6953  +/- 0.1105\n",
      "max_depth: 100 / n_estimators: 5 ->  0.7104  +/- 0.1092\n",
      "max_depth: 100 / n_estimators: 10 ->  0.7009  +/- 0.1105\n",
      "max_depth: 100 / n_estimators: 50 ->  0.7098  +/- 0.1103\n",
      "max_depth: 100 / n_estimators: 100 ->  0.7003  +/- 0.1156\n",
      "max_depth: None / n_estimators: 1 ->  0.6953  +/- 0.1105\n",
      "max_depth: None / n_estimators: 5 ->  0.7104  +/- 0.1092\n",
      "max_depth: None / n_estimators: 10 ->  0.7009  +/- 0.1105\n",
      "max_depth: None / n_estimators: 50 ->  0.7098  +/- 0.1103\n",
      "max_depth: None / n_estimators: 100 ->  0.7003  +/- 0.1156\n"
     ]
    }
   ],
   "source": [
    "from sklearn.ensemble import AdaBoostClassifier\n",
    "\n",
    "param_max_depth = [1, 3, 5, 10, 50, 100, None]\n",
    "param_n_estimators = [1, 5, 10, 50, 100]\n",
    "for d in param_max_depth:\n",
    "    for e in param_n_estimators:\n",
    "        clf_tr = DecisionTreeClassifier(criterion = 'entropy', max_depth = d)\n",
    "        pipe_ada = Pipeline([('scaler', StandardScaler()),\n",
    "                            ('clf', AdaBoostClassifier(base_estimator = clf_tr, n_estimators = e, learning_rate = 0.01, random_state = 0))])\n",
    "        cvs = cross_val_score(pipe_ada, women_X, y = women_y, cv = 10)\n",
    "        mean = np.mean(cvs)\n",
    "        std = np.std(cvs)\n",
    "        print('max_depth: %s / n_estimators: %s ->  %0.4f  +/- %0.4f' % (d, e, mean, std))"
   ]
  },
  {
   "cell_type": "code",
   "execution_count": 432,
   "metadata": {
    "collapsed": false
   },
   "outputs": [
    {
     "data": {
      "text/plain": [
       "0.76521303258145368"
      ]
     },
     "execution_count": 432,
     "metadata": {},
     "output_type": "execute_result"
    }
   ],
   "source": [
    "pipe_rf = Pipeline([('scaler', StandardScaler()),\n",
    "                 ('clf_rf', RandomForestClassifier(criterion = 'entropy',\n",
    "                                            max_depth = 10,\n",
    "                                            n_estimators = 100, \n",
    "                                            max_features = 'log2',\n",
    "                                            random_state = 0,\n",
    "                                            n_jobs = -1))])\n",
    "pipe_rf.fit(women_X, women_y)\n",
    "np.mean(cross_val_score(pipe_rf, women_X, y = women_y, cv = 10))"
   ]
  },
  {
   "cell_type": "markdown",
   "metadata": {},
   "source": [
    "## Save"
   ]
  },
  {
   "cell_type": "code",
   "execution_count": 438,
   "metadata": {
    "collapsed": true
   },
   "outputs": [],
   "source": [
    "import pickle\n",
    "\n",
    "woman_data = {'X': women_X, 'y': women_y}\n",
    "\n",
    "f = open('woman_data.pkl', 'wb')\n",
    "pickle.dump(woman_data, f)\n",
    "f.close()"
   ]
  },
  {
   "cell_type": "code",
   "execution_count": 437,
   "metadata": {
    "collapsed": false
   },
   "outputs": [],
   "source": [
    "f = open('woman_cl.pklf', 'wb')\n",
    "pickle.dump(pipe_rf, f)\n",
    "f.close()"
   ]
  },
  {
   "cell_type": "code",
   "execution_count": 435,
   "metadata": {
    "collapsed": false
   },
   "outputs": [
    {
     "data": {
      "text/plain": [
       "Index(['accessory_ring', 'participation', 'grade', 'drowsiness',\n",
       "       'glasses_안경착용', 'phonecase', 'after_finish_lecture_강의실나감'],\n",
       "      dtype='object')"
      ]
     },
     "execution_count": 435,
     "metadata": {},
     "output_type": "execute_result"
    }
   ],
   "source": [
    "men_X.columns"
   ]
  },
  {
   "cell_type": "code",
   "execution_count": 436,
   "metadata": {
    "collapsed": false
   },
   "outputs": [
    {
     "data": {
      "text/plain": [
       "Index(['exit_no', 'how_wear_accessory', 'position_전방', 'phone_position_화면아래',\n",
       "       'drowsiness', 'accessory_ring', 'campus_style_편안한복장', 'color_yes'],\n",
       "      dtype='object')"
      ]
     },
     "execution_count": 436,
     "metadata": {},
     "output_type": "execute_result"
    }
   ],
   "source": [
    "women_X.columns"
   ]
  },
  {
   "cell_type": "markdown",
   "metadata": {
    "collapsed": true
   },
   "source": [
    "# Input Step"
   ]
  },
  {
   "cell_type": "code",
   "execution_count": 1,
   "metadata": {
    "collapsed": false
   },
   "outputs": [
    {
     "name": "stdout",
     "output_type": "stream",
     "text": [
      "상대의 성별이 어떻게 되십니까? (1: 남성, 2: 여성)   1\n",
      "target: 남성\n"
     ]
    },
    {
     "ename": "NameError",
     "evalue": "name 'men_X' is not defined",
     "output_type": "error",
     "traceback": [
      "\u001b[0;31m---------------------------------------------------------------------------\u001b[0m",
      "\u001b[0;31mNameError\u001b[0m                                 Traceback (most recent call last)",
      "\u001b[0;32m<ipython-input-1-263daf9a0cef>\u001b[0m in \u001b[0;36m<module>\u001b[0;34m()\u001b[0m\n\u001b[1;32m      7\u001b[0m     \u001b[0mprint\u001b[0m\u001b[1;33m(\u001b[0m\u001b[1;34m'target: 남성'\u001b[0m\u001b[1;33m)\u001b[0m\u001b[1;33m\u001b[0m\u001b[0m\n\u001b[1;32m      8\u001b[0m     \u001b[0mdata\u001b[0m \u001b[1;33m=\u001b[0m \u001b[0mdict\u001b[0m\u001b[1;33m(\u001b[0m\u001b[1;33m)\u001b[0m\u001b[1;33m\u001b[0m\u001b[0m\n\u001b[0;32m----> 9\u001b[0;31m     \u001b[1;32mfor\u001b[0m \u001b[0mt\u001b[0m \u001b[1;32min\u001b[0m \u001b[0mmen_X\u001b[0m\u001b[1;33m.\u001b[0m\u001b[0mcolumns\u001b[0m\u001b[1;33m:\u001b[0m\u001b[1;33m\u001b[0m\u001b[0m\n\u001b[0m\u001b[1;32m     10\u001b[0m         \u001b[0mdata\u001b[0m\u001b[1;33m[\u001b[0m\u001b[0mt\u001b[0m\u001b[1;33m]\u001b[0m \u001b[1;33m=\u001b[0m \u001b[0mdata\u001b[0m\u001b[1;33m.\u001b[0m\u001b[0mget\u001b[0m\u001b[1;33m(\u001b[0m\u001b[0mt\u001b[0m\u001b[1;33m,\u001b[0m \u001b[1;36m0\u001b[0m\u001b[1;33m)\u001b[0m\u001b[1;33m\u001b[0m\u001b[0m\n\u001b[1;32m     11\u001b[0m     \u001b[0mprint\u001b[0m\u001b[1;33m(\u001b[0m\u001b[1;34m'\\n'\u001b[0m\u001b[1;33m)\u001b[0m\u001b[1;33m\u001b[0m\u001b[0m\n",
      "\u001b[0;31mNameError\u001b[0m: name 'men_X' is not defined"
     ]
    }
   ],
   "source": [
    "sex = input('상대의 성별이 어떻게 되십니까? (1: 남성, 2: 여성)   ')\n",
    "while sex not in ['1', '2']:\n",
    "    print('잘못 입력 하셨습니다. 다시 입력해 주십시오.')\n",
    "    sex = input('상대의 성별이 어떻게 되십니까? (1: 남자, 2: 여자)   ')\n",
    "    \n",
    "if sex == '1':\n",
    "    print('target: 남성')\n",
    "    data = dict()\n",
    "    for t in men_X.columns:\n",
    "        data[t] = data.get(t, 0)\n",
    "    print('\\n')\n",
    "    \n",
    "    grade = input('대상의 학년이 어떻게 됩니까? (1: 1학년, 2: 2학년, 3: 3학년, 4: 4학년)   ')\n",
    "    while grade not in ['1', '2', '3', '4']:\n",
    "        print('잘못 입력 하셨습니다. 다시 입력해 주십시오.')\n",
    "        grade = input('대상의 학년이 어떻게 됩니까? (1: 1학년, 2: 2학년, 3: 3학년, 4: 4학년)   ')\n",
    "\n",
    "    grade = int(grade)\n",
    "    data['grade'] = grade\n",
    "    print('\\n')\n",
    "\n",
    "    absent_no = input('대상이 최근 2주 이내 지각 또는 결석없이 강의를 들으러 왔습니까? (0: 아니오, 1: 예)   ')\n",
    "    while absent_no not in ['0', '1']:\n",
    "        print('잘못 입력 하셨습니다. 다시 입력해 주십시오.')\n",
    "        absent_no = input('대상이 최근 2주 이내 지각 또는 결석없이 강의를 들으러 왔습니까? (0: 아니오, 1: 예)   ')\n",
    "\n",
    "    if absent_no == '1':\n",
    "        data['absent_no'] = 1\n",
    "    print('\\n')\n",
    " \n",
    "    participation = input('대상이 강의에 적극적으로 참여하나요? (1: 매우아니다, 2: 아니다, 3: 보통이다, 4: 그렇다, 5: 매우그렇다)   '   )\n",
    "    while participation not in ['1', '2', '3', '4', '5']:\n",
    "        print('잘못 입력 하셨습니다. 다시 입력해 주십시오.')\n",
    "        participation = input('대상이 강의에 적극적으로 참여하나요? (1: 매우아니다, 2: 아니다, 3: 보통이다, 4: 그렇다, 5: 매우그렇다)   '   )\n",
    "\n",
    "    participation = int(participation)\n",
    "    data['participation'] = participation\n",
    "    print('\\n')\n",
    "    \n",
    "    why_use_phone = input('대상이 강의 도중 핸드폰을 사용하나요? (0: 아니오, 1: 예)   ')\n",
    "    while why_use_phone not in ['0', '1']:\n",
    "        print('잘못 입력 하셨습니다. 다시 입력해 주십시오.')\n",
    "        why_use_phone = input('대상이 최근 2주 이내 지각 또는 결석없이 강의를 들으러 왔습니까? (0: 아니오, 1: 예)   ')\n",
    "\n",
    "    if why_use_phone == '1':\n",
    "        data['why_use_phone'] = 1\n",
    "    print('\\n')\n",
    "\n",
    "    after_finish_lecture = input('대상이 강의 끝난 직후 보인 행동이 어떻습니까? (0: 해당 없음, 1: 강의실 나감, 2: 휴대폰 사용)   ')\n",
    "    while after_finish_lecture not in ['0', '1', '2']:\n",
    "        print('잘못 입력 하셨습니다. 다시 입력해 주십시오.')\n",
    "        after_finish_lecture = input('대상이 강의 끝난 직후 보인 행동이 어떻습니까? (0: 해당 없음, 1: 강의실 나감, 2: 휴대폰 사용)   ')\n",
    "\n",
    "    if after_finish_lecture == '1':\n",
    "        data['after_finish_lecture_강의실나감'] = 1\n",
    "\n",
    "    if after_finish_lecture == '2':\n",
    "        data['after_finish_lecture_휴대폰사용'] = 1\n",
    "    print('\\n')\n",
    " \n",
    "    accessory = input('대상이 반지를 끼고 있나요? (0: 아니오, 1: 예)   ')\n",
    "    while accessory not in ['0', '1']:\n",
    "        print('잘못 입력 하셨습니다. 다시 입력해 주십시오.')\n",
    "        accessory = input('대상이 반지를 끼고 있나요? (0: 아니오, 1: 예)   ')\n",
    "\n",
    "    if accessory == '1':\n",
    "        data['accessory_ring'] = 1\n",
    "    print('\\n')\n",
    " \n",
    "    accessory = input('대상이 귀걸이를 끼고 있나요? (0: 아니오, 1: 예)   ')\n",
    "    while accessory not in ['0', '1']:\n",
    "        print('잘못 입력 하셨습니다. 다시 입력해 주십시오.')\n",
    "        accessory = input('대상이 귀걸이를 끼고 있나요? (0: 아니오, 1: 예)   ')\n",
    "\n",
    "    if accessory == '1':\n",
    "        data['accessory_earring'] = 1\n",
    "    print('\\n')\n",
    "\n",
    "    phonecase = input('대상이 핸드폰 케이스를 사용하고 있나요? (0: 아니오, 1: 예)   ')\n",
    "    while phonecase not in ['0', '1']:\n",
    "        print('잘못 입력 하셨습니다. 다시 입력해 주십시오.')\n",
    "        phonecase = input('대상이 핸드폰 케이스를 사용하고 있나요? (0: 아니오, 1: 예)   ')\n",
    "\n",
    "    if phonecase == '1':\n",
    "        data['phonecase'] = 1\n",
    "else:\n",
    "    print('target: 여성')\n",
    "    data = dict()\n",
    "    for t in women_X.columns:\n",
    "        data[t] = data.get(t, 0)\n",
    "    print('\\n')\n",
    "\n",
    "    lecture = input('대상이 이번학기에 몇개의 교양 강의를 듣고 있습니까? (1: 듣지 않음, 2: 1개, 3: 2개, 4: 3개 이상)   ')\n",
    "    while lecture not in ['1', '2', '3', '4']:\n",
    "        print('잘못 입력 하셨습니다. 다시 입력해 주십시오.')\n",
    "        lecture = input('대상이 이번학기에 몇개의 교양 강의를 듣고 있습니까? (1: 듣지 않음, 2: 1개, 3: 2개, 4: 3개 이상)   ')\n",
    "\n",
    "    lecture = int(lecture)\n",
    "    data['lecture'] = lecture\n",
    "    print('\\n')\n",
    "\n",
    "    exit_no = input('대상이 최근 2주 이내 강의 도중 강의실을 나온적이 있습니까? (0: 아니오, 1: 예)   ')\n",
    "    while exit_no not in ['0', '1']:\n",
    "        print('잘못 입력 하셨습니다. 다시 입력해 주십시오.')\n",
    "        exit_no = input('대상이 최근 2주 이내 강의 도중 강의실을 나온적이 있습니까? (0: 아니오, 1: 예)   ')\n",
    "\n",
    "    if exit_no == '0':\n",
    "        data['exit_no'] = 1\n",
    "    print('\\n')\n",
    "\n",
    "    drowsiness = input('대상이 강의 도중 자주 졸고 있습니까? (1: 매우아니다, 2: 아니다, 3: 보통이다, 4: 그렇다, 5: 매우그렇다)   ')\n",
    "    while drowsiness not in ['1', '2', '3', '4', '5']:\n",
    "        print('잘못 입력 하셨습니다. 다시 입력해 주십시오.')\n",
    "        drowsiness = input('대상이 강의 도중 자주 졸고 있습니까? (1: 매우아니다, 2: 아니다, 3: 보통이다, 4: 그렇다, 5: 매우그렇다)   ')\n",
    "\n",
    "    drowsiness = int(drowsiness)\n",
    "    data['drowsiness'] = drowsiness\n",
    "    print('\\n')\n",
    "\n",
    "    position = input('대상이 강의실 내 어느 위치에 앉아 있습니까? (1: 전방, 2: 중앙, 3: 후방)   ')\n",
    "    while position not in ['1', '2', '3']:\n",
    "        print('잘못 입력 하셨습니다. 다시 입력해 주십시오.')\n",
    "        position = input('대상이 강의실 내 어느 위치에 앉아 있습니까? (1: 전방, 2: 중앙, 3: 후방)   ')\n",
    "\n",
    "    if position == '1':\n",
    "        data['position_전방'] = 1  \n",
    "    print('\\n')\n",
    "\n",
    "    attention = input('대상의 시선이 어느 방향을 주로 바라보고 있습니까? (1: 좌전방, 2: 전방, 3: 우전방)   ')\n",
    "    while attention not in ['1', '2', '3']:\n",
    "        print('잘못 입력 하셨습니다. 다시 입력해 주십시오.')\n",
    "        attention = input('대상의 시선이 어느 방향을 주로 바라보고 있습니까? (1: 좌전방, 2: 전방, 3: 우전방)   ')\n",
    "\n",
    "    if attention == '1':\n",
    "        data['attention_좌전방'] = 1      \n",
    "    print('\\n')\n",
    "\n",
    "    after_finish_lecture = input('대상이 강의 끝난 직후 보인 행동이 어떻습니까? (0: 해당 없음, 1: 강의실 나감, 2: 휴대폰 사용)   ')\n",
    "    while after_finish_lecture not in ['0', '1', '2']:\n",
    "        print('잘못 입력 하셨습니다. 다시 입력해 주십시오.')\n",
    "        after_finish_lecture = input('대상이 강의 끝난 직후 보인 행동이 어떻습니까? (0: 해당 없음, 1: 강의실 나감, 2: 휴대폰 사용)   ')\n",
    "\n",
    "    if after_finish_lecture == '1':\n",
    "        data['after_finish_lecture_강의실나감'] = 1\n",
    "    if after_finish_lecture == '2':\n",
    "        data['after_finish_lecture_휴대폰사용'] = 1\n",
    "    print('\\n')\n",
    "\n",
    "    glasses = input('대상이 안경 또는 렌즈를 착용 중 입니까? (0: 착용안함, 1: 안경착용, 2: 렌즈착용)   ')\n",
    "    while glasses not in ['0', '1', '2']:\n",
    "        print('잘못 입력 하셨습니다. 다시 입력해 주십시오.')\n",
    "        glasses = input('대상이 안경 또는 렌즈를 착용 중 입니까? (0: 착용안함, 1: 안경착용, 2: 렌즈착용)   ')\n",
    "\n",
    "    if glasses == '1':\n",
    "        data['glasses_안경착용'] = 1  \n",
    "    if glasses == '2':\n",
    "        data['glasses_렌즈착용'] = 1     \n",
    "    print('\\n')\n",
    "\n",
    "    accessory = input('대상이 팔찌를 끼고 있나요? (0: 아니오, 1: 예)   ')\n",
    "    while accessory not in ['0', '1']:\n",
    "        print('잘못 입력 하셨습니다. 다시 입력해 주십시오.')\n",
    "        accessory = input('대상이 팔찌를 끼고 있나요? (0: 아니오, 1: 예)   ')\n",
    "\n",
    "    if accessory == '1':\n",
    "        data['accessory_bracelet'] = 1\n",
    "    print('\\n')\n",
    "\n",
    "    color_yes = input('대상이 무채색의 옷을 자주 입습니까? (0: 아니오, 1: 예)   ')\n",
    "    while color_yes not in ['0', '1']:\n",
    "        print('잘못 입력 하셨습니다. 다시 입력해 주십시오.')\n",
    "        color_yes = input('대상이 무채색의 옷을 자주 입습니까? (0: 아니오, 1: 예)   ')\n",
    "\n",
    "    if color_yes == '0':\n",
    "        data['color_yes'] = 1   \n",
    "    print('\\n')\n",
    "    \n",
    "test = pd.DataFrame([data])\n",
    "print('\\n')"
   ]
  },
  {
   "cell_type": "markdown",
   "metadata": {},
   "source": [
    "# Output Step"
   ]
  },
  {
   "cell_type": "code",
   "execution_count": 12,
   "metadata": {
    "collapsed": false
   },
   "outputs": [
    {
     "name": "stdout",
     "output_type": "stream",
     "text": [
      "대상은 현재 솔로입니다. 용기를 내어보세요!\n"
     ]
    }
   ],
   "source": [
    "if sex == '1':\n",
    "    if men_clf.predict(test) == 'solo':\n",
    "        print('대상은 현재 솔로입니다. 용기를 내어보세요!')\n",
    "    else:\n",
    "        print('대상이 현재 연애 중 일지도 모릅니다. 하지만 용기내어 다가가 보세요!')    \n",
    "else:\n",
    "    if women_clf.predict(test) == 'solo':\n",
    "        print('대상은 현재 솔로입니다. 용기를 내어보세요!')\n",
    "    else:\n",
    "        print('대상이 현재 연애 중 일지도 모릅니다. 하지만 용기내어 다가가 보세요!')"
   ]
  },
  {
   "cell_type": "code",
   "execution_count": 13,
   "metadata": {
    "collapsed": false
   },
   "outputs": [
    {
     "name": "stdout",
     "output_type": "stream",
     "text": [
      "If you want to exit this page, please press the enter key.\n"
     ]
    },
    {
     "data": {
      "text/plain": [
       "''"
      ]
     },
     "execution_count": 13,
     "metadata": {},
     "output_type": "execute_result"
    }
   ],
   "source": [
    "input('If you want to exit this page, please press the enter key.')"
   ]
  }
 ],
 "metadata": {
  "anaconda-cloud": {},
  "kernelspec": {
   "display_name": "Python [conda root]",
   "language": "python",
   "name": "conda-root-py"
  },
  "language_info": {
   "codemirror_mode": {
    "name": "ipython",
    "version": 3
   },
   "file_extension": ".py",
   "mimetype": "text/x-python",
   "name": "python",
   "nbconvert_exporter": "python",
   "pygments_lexer": "ipython3",
   "version": "3.5.2"
  }
 },
 "nbformat": 4,
 "nbformat_minor": 0
}
