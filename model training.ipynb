{
 "cells": [
  {
   "cell_type": "code",
   "execution_count": 34,
   "metadata": {},
   "outputs": [],
   "source": [
    "import pandas as pd\n",
    "import numpy as np\n",
    "import matplotlib.pyplot as plt\n",
    "import pickle\n",
    "from collections import Counter\n",
    "\n",
    "from xgboost import XGBClassifier, plot_importance\n",
    "from sklearn.model_selection import cross_val_score\n",
    "from sklearn.metrics import accuracy_score, f1_score\n",
    "from sklearn.preprocessing import MinMaxScaler\n",
    "from sklearn.linear_model import LogisticRegression\n",
    "from sklearn.naive_bayes import MultinomialNB\n",
    "from sklearn.svm import SVC\n",
    "from sklearn.ensemble import RandomForestClassifier\n",
    "from sklearn.neighbors import KNeighborsClassifier\n",
    "\n",
    "from imblearn.over_sampling import ADASYN\n",
    "from imblearn.pipeline import Pipeline\n",
    "\n",
    "from matplotlib import font_manager, rc\n",
    "font_name = font_manager.FontProperties(fname=\"c:/Windows/Fonts/malgun.ttf\").get_name()\n",
    "rc('font', family=font_name)\n",
    "\n",
    "% matplotlib inline"
   ]
  },
  {
   "cell_type": "markdown",
   "metadata": {},
   "source": [
    "# Base Model"
   ]
  },
  {
   "cell_type": "code",
   "execution_count": 69,
   "metadata": {},
   "outputs": [
    {
     "name": "stdout",
     "output_type": "stream",
     "text": [
      "Accuracy: 0.69391\n"
     ]
    }
   ],
   "source": [
    "# 남성\n",
    "man = pd.read_pickle('man_data.pkl')\n",
    "\n",
    "scaler = MinMaxScaler()\n",
    "clf = LogisticRegression()\n",
    "model = Pipeline([('scaler', scaler), ('clf', clf)])\n",
    "\n",
    "val = cross_val_score(model, X = man['train_X'], y = man['train_y'], cv = 5, scoring = 'accuracy')\n",
    "print('Accuracy: %.5f' % np.mean(val))"
   ]
  },
  {
   "cell_type": "markdown",
   "metadata": {},
   "source": [
    "# Model fitting"
   ]
  },
  {
   "cell_type": "code",
   "execution_count": 73,
   "metadata": {},
   "outputs": [
    {
     "name": "stdout",
     "output_type": "stream",
     "text": [
      "[k: 28] accuracy: 0.68726\n"
     ]
    }
   ],
   "source": [
    "# kNN\n",
    "\n",
    "if __name__ == '__main__':\n",
    "    k_lst = [28]\n",
    "        \n",
    "    for k in k_lst:\n",
    "        scaler = MinMaxScaler()\n",
    "        clf = KNeighborsClassifier(n_neighbors = k)\n",
    "        model = Pipeline([('scaler', scaler), ('clf', clf)])\n",
    "        val = cross_val_score(model, X = man['train_X'], y = man['train_y'], cv = 5, scoring = 'accuracy', n_jobs = -1)\n",
    "        print('[k: %s]' % (k), 'accuracy: %.5f' % np.mean(val))"
   ]
  },
  {
   "cell_type": "code",
   "execution_count": 74,
   "metadata": {},
   "outputs": [
    {
     "name": "stdout",
     "output_type": "stream",
     "text": [
      "accuracy: 0.70749\n"
     ]
    }
   ],
   "source": [
    "# NB\n",
    "\n",
    "if __name__ == '__main__':\n",
    "    scaler = MinMaxScaler()\n",
    "    clf = MultinomialNB()\n",
    "    model = Pipeline([('scaler', scaler), ('clf', clf)])\n",
    "    val = cross_val_score(model, X = man['train_X'], y = man['train_y'], cv = 5, scoring = 'accuracy', n_jobs = -1)\n",
    "    print('accuracy: %.5f' % np.mean(val))"
   ]
  },
  {
   "cell_type": "code",
   "execution_count": 75,
   "metadata": {},
   "outputs": [
    {
     "name": "stdout",
     "output_type": "stream",
     "text": [
      "[C: 1 tol: 0.1] accuracy: 0.69370\n"
     ]
    }
   ],
   "source": [
    "# SVC linear\n",
    "\n",
    "if __name__ == '__main__':\n",
    "    C_lst = [1]\n",
    "    tol = [0.1]\n",
    "        \n",
    "    for c in C_lst:\n",
    "        for t in tol:\n",
    "            scaler = MinMaxScaler()\n",
    "            clf = SVC(kernel = 'linear', C = c, tol = t)\n",
    "            model = Pipeline([('scaler', scaler), ('clf', clf)])\n",
    "            val = cross_val_score(model, X = man['train_X'], y = man['train_y'], cv = 5, scoring = 'accuracy', n_jobs = -1)\n",
    "            print('[C: %s tol: %s]' % (c, t), 'accuracy: %.5f' % np.mean(val))"
   ]
  },
  {
   "cell_type": "code",
   "execution_count": 76,
   "metadata": {},
   "outputs": [
    {
     "name": "stdout",
     "output_type": "stream",
     "text": [
      "[C: 1 gamma: auto] accuracy: 0.71439\n"
     ]
    }
   ],
   "source": [
    "# SVC rbf\n",
    "\n",
    "if __name__ == '__main__':\n",
    "    C_lst = [1]\n",
    "    gamma = ['auto']\n",
    "        \n",
    "    for c in C_lst:\n",
    "        for g in gamma:\n",
    "            scaler = MinMaxScaler()\n",
    "            clf = SVC(kernel = 'rbf', C = c, gamma = g)\n",
    "            model = Pipeline([('scaler', scaler), ('clf', clf)])\n",
    "            val = cross_val_score(model, X = man['train_X'], y = man['train_y'], cv = 5, scoring = 'accuracy', n_jobs = -1)\n",
    "            print('[C: %s gamma: %s]' % (c, g), 'accuracy: %.5f' % np.mean(val))"
   ]
  },
  {
   "cell_type": "code",
   "execution_count": 79,
   "metadata": {},
   "outputs": [
    {
     "name": "stdout",
     "output_type": "stream",
     "text": [
      "[n_est: 1000 max_depth: 1] accuracy: 0.68059\n",
      "[n_est: 1000 max_depth: 2] accuracy: 0.68680\n",
      "[n_est: 1000 max_depth: 3] accuracy: 0.70683\n",
      "[n_est: 1000 max_depth: 4] accuracy: 0.68681\n",
      "[n_est: 1000 max_depth: 5] accuracy: 0.68036\n",
      "[n_est: 1000 max_depth: 6] accuracy: 0.67370\n",
      "[n_est: 1000 max_depth: 7] accuracy: 0.67348\n",
      "[n_est: 1000 max_depth: 8] accuracy: 0.65992\n"
     ]
    }
   ],
   "source": [
    "# RF\n",
    "\n",
    "if __name__ == '__main__':\n",
    "    n_est = [1000]\n",
    "    max_depth = range(1, 9, 1)\n",
    "        \n",
    "    for n in n_est:\n",
    "        for d in max_depth:\n",
    "            scaler = MinMaxScaler()\n",
    "            clf = RandomForestClassifier(n_estimators = n, max_depth = d, random_state = 10)\n",
    "            model = Pipeline([('scaler', scaler), ('clf', clf)])\n",
    "            val = cross_val_score(model, X = man['train_X'], y = man['train_y'], cv = 5, scoring = 'accuracy', n_jobs = -1)\n",
    "            print('[n_est: %s max_depth: %s]' % (n, d), 'accuracy: %.5f' % np.mean(val))"
   ]
  },
  {
   "cell_type": "code",
   "execution_count": null,
   "metadata": {
    "collapsed": true
   },
   "outputs": [],
   "source": []
  }
 ],
 "metadata": {
  "kernelspec": {
   "display_name": "Python 3",
   "language": "python",
   "name": "python3"
  },
  "language_info": {
   "codemirror_mode": {
    "name": "ipython",
    "version": 3
   },
   "file_extension": ".py",
   "mimetype": "text/x-python",
   "name": "python",
   "nbconvert_exporter": "python",
   "pygments_lexer": "ipython3",
   "version": "3.6.1"
  }
 },
 "nbformat": 4,
 "nbformat_minor": 2
}
